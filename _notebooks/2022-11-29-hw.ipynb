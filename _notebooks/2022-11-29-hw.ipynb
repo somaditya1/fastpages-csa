{
 "cells": [
  {
   "cell_type": "markdown",
   "metadata": {},
   "source": [
    "# HW Units 1-6\n",
    "> Java test code\n",
    "\n",
    "- badges: true\n",
    "- comments: true\n",
    "- categories: [jupyter, java]"
   ]
  },
  {
   "cell_type": "markdown",
   "metadata": {},
   "source": [
    "#Unit 1"
   ]
  },
  {
   "cell_type": "markdown",
   "metadata": {},
   "source": [
    "##Hack 1.1"
   ]
  },
  {
   "cell_type": "code",
   "execution_count": 1,
   "metadata": {
    "vscode": {
     "languageId": "java"
    }
   },
   "outputs": [
    {
     "name": "stdout",
     "output_type": "stream",
     "text": [
      "Soma\n",
      "CanCode\n"
     ]
    }
   ],
   "source": [
    "public class Printing {\n",
    "\n",
    "    public static void main(String[] args){\n",
    "        System.out.println(\"Soma\");\n",
    "        System.out.println(\"CanCode\");\n",
    "        \n",
    "    }\n",
    "\n",
    "}\n",
    "\n",
    "Printing.main(null)"
   ]
  },
  {
   "cell_type": "markdown",
   "metadata": {},
   "source": [
    "##Hack 1.2"
   ]
  },
  {
   "cell_type": "code",
   "execution_count": 4,
   "metadata": {
    "vscode": {
     "languageId": "java"
    }
   },
   "outputs": [
    {
     "name": "stdout",
     "output_type": "stream",
     "text": [
      "Somaditya\n",
      "16\n",
      "false\n",
      "5.9\n"
     ]
    }
   ],
   "source": [
    "public class Biodata {\n",
    "\n",
    "    public static void main(String[] args) {\n",
    "        String name = \"Somaditya\";\n",
    "        int age = 16;\n",
    "        boolean underclassman = false;\n",
    "        double height = 5.9;\n",
    "\n",
    "        System.out.println(name);\n",
    "        System.out.println(age);\n",
    "        System.out.println(underclassman);\n",
    "        System.out.println(height);\n",
    "    }\n",
    "}\n",
    "\n",
    "Biodata.main(null);"
   ]
  },
  {
   "cell_type": "markdown",
   "metadata": {},
   "source": [
    "##Hack 1.3"
   ]
  },
  {
   "cell_type": "code",
   "execution_count": 5,
   "metadata": {
    "vscode": {
     "languageId": "java"
    }
   },
   "outputs": [
    {
     "name": "stdout",
     "output_type": "stream",
     "text": [
      "-7993.57\n"
     ]
    }
   ],
   "source": [
    "public class Num {\n",
    "\n",
    "    public static void main(String[] args) {\n",
    "\n",
    "        double num  = ( ( ( 6 * 1234124 ) / 11345 ) - 890809 + 90800 ) % 980098;\n",
    "        num = num / 100;\n",
    "        System.out.println(num);\n",
    "\n",
    "    }\n",
    "}\n",
    "\n",
    "Num.main(null);"
   ]
  },
  {
   "cell_type": "markdown",
   "metadata": {},
   "source": [
    "Hack 1.4"
   ]
  },
  {
   "cell_type": "code",
   "execution_count": 9,
   "metadata": {
    "vscode": {
     "languageId": "java"
    }
   },
   "outputs": [
    {
     "name": "stdout",
     "output_type": "stream",
     "text": [
      "Number of classes you are taking this trimester: \n",
      "What is your Grade in Period 1? ---> A\n",
      "What is your Grade in Period 2? ---> A\n",
      "What is your Grade in Period 3? ---> B\n",
      "Your Un-weighted GPA is:3.6666666666666665\n"
     ]
    }
   ],
   "source": [
    "public class GPACalculator {\n",
    "\n",
    "    public static void main(String[] args) {  \n",
    "        \n",
    "        Scanner input = new Scanner(System.in);   \n",
    "        \n",
    "        String letterGrades = \"\";\n",
    "        double weight;\n",
    "        double sum = 0.00;\n",
    "        int num = 1;\n",
    "        double classes = 0;\n",
    "        \n",
    "        System.out.print(\"Number of classes you are taking this trimester: \\n\");\n",
    "        \n",
    "        classes = input.nextInt();\n",
    "     \n",
    "        for (int i = 0; i < classes; i++) {\n",
    "        \n",
    "            Scanner input2 = new Scanner(System.in);\n",
    "            System.out.print(\"What is your Grade in Period \" + num + \"? ---> \");\n",
    "            letterGrades = input2.nextLine();\n",
    "            System.out.print(letterGrades + \"\\n\");\n",
    "            \n",
    "    \n",
    "            if (letterGrades.equals(\"A\")){\n",
    "            weight = 4.00; \n",
    "            sum += weight;\n",
    "    \n",
    "        } else if (letterGrades.equals(\"B\")){\n",
    "            weight = 3.00;\n",
    "            sum += weight;\n",
    "    \n",
    "        } else if (letterGrades.equals(\"C\")){\n",
    "            weight = 2.00;\n",
    "            sum += weight;\n",
    "    \n",
    "        } else if (letterGrades.equals(\"D\")){\n",
    "            weight = 1.00;\n",
    "            sum += weight;\n",
    "    \n",
    "        } else if (letterGrades.equals(\"F\")){\n",
    "            weight = 0.00;\n",
    "            sum += weight;\n",
    "    \n",
    "        }\n",
    "\n",
    "        num = num + 1;\n",
    "    \n",
    "        }\n",
    "    \n",
    "        double GPA = sum / classes;\n",
    "        System.out.println(\"Your Un-weighted GPA is:\" + GPA);\n",
    "    }\n",
    "\n",
    "}\n",
    "\n",
    "GPACalculator.main(null);"
   ]
  },
  {
   "cell_type": "markdown",
   "metadata": {},
   "source": [
    "Hack 1.5"
   ]
  },
  {
   "cell_type": "code",
   "execution_count": 10,
   "metadata": {
    "vscode": {
     "languageId": "java"
    }
   },
   "outputs": [
    {
     "name": "stdout",
     "output_type": "stream",
     "text": [
      "double to int: 123456\n"
     ]
    }
   ],
   "source": [
    "public class CastActivity {\n",
    "\n",
    "    public static void main(String[] args) {\n",
    "        \n",
    "        double doubleNum = 123456.123456;\n",
    "        int doubleToInt = (int) doubleNum;\n",
    "        System.out.println(\"double to int: \" + doubleToInt);\n",
    "\n",
    "        // int largeNum = 678901234567890;\n",
    "        // System.out.println(largeNum);\n",
    "        // integer numebr too large error ^\n",
    "    }\n",
    "}\n",
    "\n",
    "CastActivity.main(null);"
   ]
  },
  {
   "cell_type": "markdown",
   "metadata": {},
   "source": [
    "#Unit 2"
   ]
  },
  {
   "cell_type": "code",
   "execution_count": 13,
   "metadata": {
    "vscode": {
     "languageId": "java"
    }
   },
   "outputs": [
    {
     "name": "stdout",
     "output_type": "stream",
     "text": [
      "Thomas Jefferson takes 1 damage\n",
      "Thomas Jefferson HP: 12\n",
      "Thomas Jefferson missed!\n",
      "George Washington HP: 3\n",
      "Thomas Jefferson takes 1 damage\n",
      "Thomas Jefferson HP: 12\n",
      "Thomas Jefferson missed!\n",
      "George Washington HP: 2\n",
      "George Washington missed!\n",
      "Thomas Jefferson HP: 12\n",
      "George Washington takes 2 damage\n",
      "George Washington HP: 0\n",
      "George Washington has perished\n"
     ]
    }
   ],
   "source": [
    "import java.util.*;\n",
    "\n",
    "public class Goblin {\n",
    "    private String name;\n",
    "    private int HP;\n",
    "    private int DMG;\n",
    "    private double hitChance;\n",
    "\n",
    "    public String getName() {\n",
    "        return name;\n",
    "    }\n",
    "\n",
    "    public int getHP() {\n",
    "        return HP;\n",
    "    }\n",
    "\n",
    "    public int getDMG() {\n",
    "        return DMG;\n",
    "    }\n",
    "\n",
    "    public double getHitChance() {\n",
    "        return hitChance;\n",
    "    }\n",
    "\n",
    "    public boolean isAlive() {\n",
    "        if (this.HP > 0) {\n",
    "            return true;\n",
    "        } else {\n",
    "            return false;\n",
    "        }\n",
    "    }\n",
    "\n",
    "    public void setName(String newName) {\n",
    "        this.name = newName;\n",
    "    }\n",
    "\n",
    "    public void setHP(int newHP) {\n",
    "        this.HP = newHP;\n",
    "    }\n",
    "\n",
    "    public void takeDMG(int takenDamage) {\n",
    "        this.HP -= takenDamage;\n",
    "    }\n",
    "\n",
    "    public void setDMG(int newDMG) {\n",
    "        this.DMG = newDMG;\n",
    "    }\n",
    "\n",
    "    public void setHitChance(double newHitChance) {\n",
    "        this.hitChance = newHitChance;\n",
    "    }\n",
    "}\n",
    "\n",
    "public class Duel {\n",
    "\n",
    "    public static void fight(Goblin goblin1, Goblin goblin2) {\n",
    "        while (goblin1.isAlive() && goblin2.isAlive()) {\n",
    "\n",
    "            // goblin1 hit chance tester\n",
    "            if (Math.random() < goblin2.getHitChance()) {\n",
    "                goblin2.takeDMG(goblin2.getDMG());\n",
    "                System.out.println(goblin1.getName() + \" takes \" + goblin2.getDMG() + \" damage\");\n",
    "            }\n",
    "            else {\n",
    "                System.out.println(goblin2.getName() + \" missed!\");\n",
    "            }\n",
    "            // print hp of goblin1\n",
    "            System.out.println(goblin1.getName() + \" HP: \" + goblin1.getHP());\n",
    "\n",
    "            if (!goblin1.isAlive()) {\n",
    "                System.out.println(goblin1.getName() + \" has perished\");\n",
    "                break;\n",
    "            }\n",
    "\n",
    "            // if statement for goblin2 hit chance\n",
    "            if (Math.random() < goblin1.getHitChance()) {\n",
    "                goblin2.takeDMG(goblin1.getDMG());\n",
    "                System.out.println(goblin2.getName() + \" takes \" + goblin1.getDMG() + \" damage\");\n",
    "            }\n",
    "            else {\n",
    "                System.out.println(goblin1.getName() + \" missed!\");\n",
    "            }\n",
    "            // print hp of goblin2\n",
    "            System.out.println(goblin2.getName() + \" HP: \" + goblin2.getHP());\n",
    "\n",
    "            if (!goblin2.isAlive()) {\n",
    "                System.out.println(goblin2.getName() + \" has perished\");\n",
    "                break;\n",
    "            }\n",
    "        }\n",
    "    }\n",
    "\n",
    "    public static void main(String[] args) {\n",
    "        Goblin goblin1 = new Goblin();\n",
    "        goblin1.setName(\"Thomas Jefferson\");\n",
    "        goblin1.setHP(12);\n",
    "        goblin1.setDMG(2);\n",
    "        goblin1.setHitChance(0.5);\n",
    "\n",
    "        Goblin goblin2 = new Goblin();\n",
    "        goblin2.setName(\"George Washington\");\n",
    "        goblin2.setHP(4);\n",
    "        goblin2.setDMG(1);\n",
    "        goblin2.setHitChance(0.75);\n",
    "\n",
    "        fight(goblin1, goblin2);\n",
    "    }\n",
    "}\n",
    "\n",
    "Duel.main(null);"
   ]
  },
  {
   "cell_type": "code",
   "execution_count": 15,
   "metadata": {
    "vscode": {
     "languageId": "java"
    }
   },
   "outputs": [
    {
     "name": "stdout",
     "output_type": "stream",
     "text": [
      "i = 4\n",
      "iss = 18\n",
      "issipp = 36\n",
      "mississippi = 121\n",
      "a = 4\n",
      "aa = 12\n",
      "aaa = 18\n",
      "aabb = 16\n",
      "c = 0\n"
     ]
    }
   ],
   "source": [
    "// #FRQ 1\n",
    "public class WordMatch {\n",
    "    String secret;\n",
    "\n",
    "    public WordMatch(String secret) {\n",
    "        this.secret = secret;\n",
    "    }\n",
    "\n",
    "    public void scoreGuess(String guess) {\n",
    "        int counter = 0;\n",
    "\n",
    "        // for loop for first substring index\n",
    "        for (int i = 0; i < this.secret.length(); i++){\n",
    "            // loop for second substring index\n",
    "            for (int j = i + 1; j < this.secret.length() + 1; j++) {\n",
    "                // if statement\n",
    "                if (guess.equals(this.secret.substring(i,j))) {\n",
    "                    counter++;\n",
    "                }\n",
    "            }\n",
    "        }\n",
    "\n",
    "        // Returning a point value\n",
    "        int points = counter * guess.length() * guess.length();\n",
    "        System.out.println(\"\" + guess + \" = \" + points);\n",
    "        // return points;\n",
    "    }\n",
    "}\n",
    "\n",
    "WordMatch game = new WordMatch(\"mississippi\");\n",
    "game.scoreGuess(\"i\"); game.scoreGuess(\"iss\"); game.scoreGuess(\"issipp\"); game.scoreGuess(\"mississippi\");\n",
    "\n",
    "WordMatch game = new WordMatch(\"aaaabb\");\n",
    "game.scoreGuess(\"a\"); game.scoreGuess(\"aa\"); game.scoreGuess(\"aaa\"); game.scoreGuess(\"aabb\"); game.scoreGuess(\"c\");"
   ]
  },
  {
   "cell_type": "markdown",
   "metadata": {},
   "source": [
    "#Unit 3 Boolean expressions and ifs lesson\n",
    "Hacks\n",
    "2009 FRQ 3b\n",
    "2017 FRQ 1b\n",
    "2019 FRQ 3b"
   ]
  },
  {
   "cell_type": "code",
   "execution_count": 16,
   "metadata": {
    "vscode": {
     "languageId": "java"
    }
   },
   "outputs": [
    {
     "ename": "UnresolvedReferenceException",
     "evalue": "Attempt to use definition snippet with unresolved references in Snippet:ClassKey(BatteryCharger)#34-public class BatteryCharger {\n\n    public int getChargeStartTime(int chargeTime) {\n        int starting = 0;\n        for (int j = 1; j < 24; j++) {\n            if (this.getChargingCost(j, chargeTime) < this.getChargingCost(starting, chargeTime)) starting = j;\n        }\n        return starting;\n    }\n}",
     "output_type": "error",
     "traceback": [
      "\u001b[1m\u001b[30m|   \u001b[1m\u001b[30mpublic class BatteryCharger {\u001b[0m",
      "\u001b[1m\u001b[30m|   \u001b[1m\u001b[30m\u001b[0m",
      "\u001b[1m\u001b[30m|   \u001b[1m\u001b[30m    public int getChargeStartTime(int chargeTime) {\u001b[0m",
      "\u001b[1m\u001b[30m|   \u001b[1m\u001b[30m        int starting = 0;\u001b[0m",
      "\u001b[1m\u001b[30m|   \u001b[1m\u001b[30m        for (int j = 1; j < 24; j++) {\u001b[0m",
      "\u001b[1m\u001b[30m|   \u001b[1m\u001b[30m            if (this.getChargingCost(j, chargeTime) < this.getChargingCost(starting, chargeTime)) starting = j;\u001b[0m",
      "\u001b[1m\u001b[30m|   \u001b[1m\u001b[30m        }\u001b[0m",
      "\u001b[1m\u001b[30m|   \u001b[1m\u001b[30m        return starting;\u001b[0m",
      "\u001b[1m\u001b[30m|   \u001b[1m\u001b[30m    }\u001b[0m",
      "\u001b[1m\u001b[30m|   \u001b[1m\u001b[30m}\u001b[0m",
      "\u001b[1m\u001b[31mUnresolved dependencies:\u001b[0m",
      "\u001b[1m\u001b[31m   - method getChargingCost(int,int)\u001b[0m"
     ]
    }
   ],
   "source": [
    "public class BatteryCharger {\n",
    "\n",
    "    public int getChargeStartTime(int chargeTime) {\n",
    "        int starting = 0;\n",
    "        for (int j = 1; j < 24; j++) {\n",
    "            if (this.getChargingCost(j, chargeTime) < this.getChargingCost(starting, chargeTime)) starting = j;\n",
    "        }\n",
    "        return starting;\n",
    "    }\n",
    "}\n",
    "\n",
    "BatteryCharger bat = new BatteryCharger();\n",
    "bat.getChargeStartTime(6);"
   ]
  },
  {
   "cell_type": "code",
   "execution_count": null,
   "metadata": {
    "vscode": {
     "languageId": "java"
    }
   },
   "outputs": [
    {
     "name": "stdout",
     "output_type": "stream",
     "text": [
      "true\n",
      "false\n"
     ]
    }
   ],
   "source": [
    "import java.util.*;\n",
    "\n",
    "public class Digits {\n",
    "    private ArrayList<Integer> digitList;\n",
    "\n",
    "    public Digits(int num) {\n",
    "        digitList = new ArrayList<Integer>();\n",
    "\n",
    "        if (num==0){\n",
    "            digitList.add(new Integer(0));\n",
    "        }\n",
    "        while (num > 0) {\n",
    "            digitList.add(0, new Integer(num % 10));\n",
    "            num /= 10;\n",
    "        }\n",
    "\n",
    "    }\n",
    "\n",
    "    public boolean isStrictlyIncreasing() {\n",
    "        boolean increase = true;\n",
    "\n",
    "        for (int i = 0; i < digitList.size() - 1; i++) {\n",
    "            if (digitList.get(i).intValue() >= digitList.get(i + 1).intValue()) {\n",
    "                increase = false;\n",
    "                return increase;\n",
    "            }\n",
    "        }\n",
    "        return increase;\n",
    "    }\n",
    "}\n",
    "\n",
    "System.out.println(new Digits(1356).isStrictlyIncreasing());\n",
    "System.out.println(new Digits(1536).isStrictlyIncreasing());"
   ]
  },
  {
   "cell_type": "code",
   "execution_count": null,
   "metadata": {
    "vscode": {
     "languageId": "java"
    }
   },
   "outputs": [],
   "source": [
    "// 19 - 3b\n",
    "public class Delimiters {\n",
    "    private String openDel;\n",
    "    private String closeDel;\n",
    "\n",
    "    public Delimiters(String open, String close) {\n",
    "\n",
    "    }\n",
    "    public ArrayList<String> getDelimitersList(String[] tokens){\n",
    "\n",
    "    }\n",
    "    public boolean isBalanced(ArrayList<String> delimiters) {\n",
    "        int opencount = 0;\n",
    "        int closecount = 0;\n",
    "\n",
    "        for (int i = 0; i < delimiters.size(); i++) {\n",
    "            if (delimiters.get(i) == openDel) {\n",
    "                opencount++;\n",
    "            }\n",
    "            else if (delimiter.get(i) == closeDel) {\n",
    "                closecount++;\n",
    "            }\n",
    "\n",
    "            if (closecount > opencount) {\n",
    "                return false;\n",
    "            }\n",
    "        }\n",
    "        return true;\n",
    "\n",
    "    }\n",
    "\n",
    "}"
   ]
  }
 ],
 "metadata": {
  "kernelspec": {
   "display_name": "Java",
   "language": "java",
   "name": "java"
  },
  "language_info": {
   "codemirror_mode": "java",
   "file_extension": ".jshell",
   "mimetype": "text/x-java-source",
   "name": "Java",
   "pygments_lexer": "java",
   "version": "11.0.16+8-post-Ubuntu-0ubuntu122.04"
  },
  "orig_nbformat": 4
 },
 "nbformat": 4,
 "nbformat_minor": 2
}
