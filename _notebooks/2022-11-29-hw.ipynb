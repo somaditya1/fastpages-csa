{
 "cells": [
  {
   "cell_type": "markdown",
   "metadata": {},
   "source": [
    "# HW Units 1-6\n",
    "> Java test code\n",
    "\n",
    "- badges: true\n",
    "- comments: true\n",
    "- categories: [jupyter, java]"
   ]
  },
  {
   "cell_type": "markdown",
   "metadata": {},
   "source": [
    "#Unit 1"
   ]
  },
  {
   "cell_type": "markdown",
   "metadata": {},
   "source": [
    "##Hack 1.1"
   ]
  },
  {
   "cell_type": "code",
   "execution_count": 1,
   "metadata": {
    "vscode": {
     "languageId": "java"
    }
   },
   "outputs": [
    {
     "name": "stdout",
     "output_type": "stream",
     "text": [
      "Soma\n",
      "CanCode\n"
     ]
    }
   ],
   "source": [
    "public class Printing {\n",
    "\n",
    "    public static void main(String[] args){\n",
    "        System.out.println(\"Soma\");\n",
    "        System.out.println(\"CanCode\");\n",
    "        \n",
    "    }\n",
    "\n",
    "}\n",
    "\n",
    "Printing.main(null)"
   ]
  },
  {
   "cell_type": "markdown",
   "metadata": {},
   "source": [
    "##Hack 1.2"
   ]
  },
  {
   "cell_type": "code",
   "execution_count": 4,
   "metadata": {
    "vscode": {
     "languageId": "java"
    }
   },
   "outputs": [
    {
     "name": "stdout",
     "output_type": "stream",
     "text": [
      "Somaditya\n",
      "16\n",
      "false\n",
      "5.9\n"
     ]
    }
   ],
   "source": [
    "public class Biodata {\n",
    "\n",
    "    public static void main(String[] args) {\n",
    "        String name = \"Somaditya\";\n",
    "        int age = 16;\n",
    "        boolean underclassman = false;\n",
    "        double height = 5.9;\n",
    "\n",
    "        System.out.println(name);\n",
    "        System.out.println(age);\n",
    "        System.out.println(underclassman);\n",
    "        System.out.println(height);\n",
    "    }\n",
    "}\n",
    "\n",
    "Biodata.main(null);"
   ]
  },
  {
   "cell_type": "markdown",
   "metadata": {},
   "source": [
    "##Hack 1.3"
   ]
  },
  {
   "cell_type": "code",
   "execution_count": 5,
   "metadata": {
    "vscode": {
     "languageId": "java"
    }
   },
   "outputs": [
    {
     "name": "stdout",
     "output_type": "stream",
     "text": [
      "-7993.57\n"
     ]
    }
   ],
   "source": [
    "public class Num {\n",
    "\n",
    "    public static void main(String[] args) {\n",
    "\n",
    "        double num  = ( ( ( 6 * 1234124 ) / 11345 ) - 890809 + 90800 ) % 980098;\n",
    "        num = num / 100;\n",
    "        System.out.println(num);\n",
    "\n",
    "    }\n",
    "}\n",
    "\n",
    "Num.main(null);"
   ]
  },
  {
   "cell_type": "markdown",
   "metadata": {},
   "source": [
    "Hack 1.4"
   ]
  },
  {
   "cell_type": "code",
   "execution_count": 9,
   "metadata": {
    "vscode": {
     "languageId": "java"
    }
   },
   "outputs": [
    {
     "name": "stdout",
     "output_type": "stream",
     "text": [
      "Number of classes you are taking this trimester: \n",
      "What is your Grade in Period 1? ---> A\n",
      "What is your Grade in Period 2? ---> A\n",
      "What is your Grade in Period 3? ---> B\n",
      "Your Un-weighted GPA is:3.6666666666666665\n"
     ]
    }
   ],
   "source": [
    "public class GPACalculator {\n",
    "\n",
    "    public static void main(String[] args) {  \n",
    "        \n",
    "        Scanner input = new Scanner(System.in);   \n",
    "        \n",
    "        String letterGrades = \"\";\n",
    "        double weight;\n",
    "        double sum = 0.00;\n",
    "        int num = 1;\n",
    "        double classes = 0;\n",
    "        \n",
    "        System.out.print(\"Number of classes you are taking this trimester: \\n\");\n",
    "        \n",
    "        classes = input.nextInt();\n",
    "     \n",
    "        for (int i = 0; i < classes; i++) {\n",
    "        \n",
    "            Scanner input2 = new Scanner(System.in);\n",
    "            System.out.print(\"What is your Grade in Period \" + num + \"? ---> \");\n",
    "            letterGrades = input2.nextLine();\n",
    "            System.out.print(letterGrades + \"\\n\");\n",
    "            \n",
    "    \n",
    "            if (letterGrades.equals(\"A\")){\n",
    "            weight = 4.00; \n",
    "            sum += weight;\n",
    "    \n",
    "        } else if (letterGrades.equals(\"B\")){\n",
    "            weight = 3.00;\n",
    "            sum += weight;\n",
    "    \n",
    "        } else if (letterGrades.equals(\"C\")){\n",
    "            weight = 2.00;\n",
    "            sum += weight;\n",
    "    \n",
    "        } else if (letterGrades.equals(\"D\")){\n",
    "            weight = 1.00;\n",
    "            sum += weight;\n",
    "    \n",
    "        } else if (letterGrades.equals(\"F\")){\n",
    "            weight = 0.00;\n",
    "            sum += weight;\n",
    "    \n",
    "        }\n",
    "\n",
    "        num = num + 1;\n",
    "    \n",
    "        }\n",
    "    \n",
    "        double GPA = sum / classes;\n",
    "        System.out.println(\"Your Un-weighted GPA is:\" + GPA);\n",
    "    }\n",
    "\n",
    "}\n",
    "\n",
    "GPACalculator.main(null);"
   ]
  },
  {
   "cell_type": "markdown",
   "metadata": {},
   "source": [
    "Hack 1.5"
   ]
  },
  {
   "cell_type": "code",
   "execution_count": 10,
   "metadata": {
    "vscode": {
     "languageId": "java"
    }
   },
   "outputs": [
    {
     "name": "stdout",
     "output_type": "stream",
     "text": [
      "double to int: 123456\n"
     ]
    }
   ],
   "source": [
    "public class CastActivity {\n",
    "\n",
    "    public static void main(String[] args) {\n",
    "        \n",
    "        double doubleNum = 123456.123456;\n",
    "        int doubleToInt = (int) doubleNum;\n",
    "        System.out.println(\"double to int: \" + doubleToInt);\n",
    "\n",
    "        // int largeNum = 678901234567890;\n",
    "        // System.out.println(largeNum);\n",
    "        // integer numebr too large error ^\n",
    "    }\n",
    "}\n",
    "\n",
    "CastActivity.main(null);"
   ]
  },
  {
   "cell_type": "markdown",
   "metadata": {},
   "source": [
    "#Unit 3 Boolean expressions and ifs lesson\n",
    "Hacks\n",
    "2009 FRQ 3b\n",
    "2017 FRQ 1b\n",
    "2019 FRQ 3b"
   ]
  },
  {
   "cell_type": "code",
   "execution_count": null,
   "metadata": {
    "vscode": {
     "languageId": "java"
    }
   },
   "outputs": [],
   "source": [
    "public class BatteryCharger {\n",
    "\n",
    "    public int getChargeStartTime(int chargeTime) {\n",
    "        int starting = 0;\n",
    "        for (int j = 1; j < 24; j++) {\n",
    "            if (this.getChargingCost(j, chargeTime) < this.getChargingCost(starting, chargeTime)) starting = j;\n",
    "        }\n",
    "        return starting;\n",
    "    }\n",
    "}\n",
    "\n",
    "BatteryCharger bat = new BatteryCharger();\n",
    "bat.getChargeStartTime(6);"
   ]
  },
  {
   "cell_type": "code",
   "execution_count": 11,
   "metadata": {
    "vscode": {
     "languageId": "java"
    }
   },
   "outputs": [
    {
     "name": "stdout",
     "output_type": "stream",
     "text": [
      "true\n",
      "false\n"
     ]
    }
   ],
   "source": [
    "import java.util.*;\n",
    "\n",
    "public class Digits {\n",
    "    private ArrayList<Integer> digitList;\n",
    "\n",
    "    public Digits(int num) {\n",
    "        digitList = new ArrayList<Integer>();\n",
    "\n",
    "        if (num==0){\n",
    "            digitList.add(new Integer(0));\n",
    "        }\n",
    "        while (num > 0) {\n",
    "            digitList.add(0, new Integer(num % 10));\n",
    "            num /= 10;\n",
    "        }\n",
    "\n",
    "    }\n",
    "\n",
    "    public boolean isStrictlyIncreasing() {\n",
    "        boolean increase = true;\n",
    "\n",
    "        for (int i = 0; i < digitList.size() - 1; i++) {\n",
    "            if (digitList.get(i).intValue() >= digitList.get(i + 1).intValue()) {\n",
    "                increase = false;\n",
    "                return increase;\n",
    "            }\n",
    "        }\n",
    "        return increase;\n",
    "    }\n",
    "}\n",
    "\n",
    "System.out.println(new Digits(1356).isStrictlyIncreasing());\n",
    "System.out.println(new Digits(1536).isStrictlyIncreasing());"
   ]
  },
  {
   "cell_type": "code",
   "execution_count": null,
   "metadata": {
    "vscode": {
     "languageId": "java"
    }
   },
   "outputs": [],
   "source": [
    "// 19 - 3b\n",
    "public class Delimiters {\n",
    "    private String openDel;\n",
    "    private String closeDel;\n",
    "\n",
    "    public Delimiters(String open, String close) {\n",
    "\n",
    "    }\n",
    "    public ArrayList<String> getDelimitersList(String[] tokens){\n",
    "\n",
    "    }\n",
    "    public boolean isBalanced(ArrayList<String> delimiters) {\n",
    "        int opencount = 0;\n",
    "        int closecount = 0;\n",
    "\n",
    "        for (int i = 0; i < delimiters.size(); i++) {\n",
    "            if (delimiters.get(i) == openDel) {\n",
    "                opencount++;\n",
    "            }\n",
    "            else if (delimiter.get(i) == closeDel) {\n",
    "                closecount++;\n",
    "            }\n",
    "\n",
    "            if (closecount > opencount) {\n",
    "                return false;\n",
    "            }\n",
    "        }\n",
    "        return true;\n",
    "\n",
    "    }\n",
    "\n",
    "}"
   ]
  }
 ],
 "metadata": {
  "kernelspec": {
   "display_name": "Java",
   "language": "java",
   "name": "java"
  },
  "language_info": {
   "codemirror_mode": "java",
   "file_extension": ".jshell",
   "mimetype": "text/x-java-source",
   "name": "Java",
   "pygments_lexer": "java",
   "version": "11.0.16+8-post-Ubuntu-0ubuntu122.04"
  },
  "orig_nbformat": 4
 },
 "nbformat": 4,
 "nbformat_minor": 2
}
