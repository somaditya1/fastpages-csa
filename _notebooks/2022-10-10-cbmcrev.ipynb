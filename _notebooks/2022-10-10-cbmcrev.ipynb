{
 "cells": [
  {
   "cell_type": "markdown",
   "metadata": {},
   "source": [
    "# CB MC Reflection\n",
    "\n",
    "- badges: true\n",
    "- comments: true\n",
    "- categories: [jupyter, java]"
   ]
  },
  {
   "cell_type": "markdown",
   "metadata": {},
   "source": [
    "##Score on MC"
   ]
  },
  {
   "cell_type": "markdown",
   "metadata": {},
   "source": [
    "[alt text](image.png)"
   ]
  },
  {
   "cell_type": "markdown",
   "metadata": {},
   "source": [
    "##Corrections"
   ]
  },
  {
   "cell_type": "markdown",
   "metadata": {},
   "source": [
    "\n",
    "### Question 14\n",
    "![image](https://user-images.githubusercontent.com/89223402/200199411-f28a3b6a-f008-4722-b6df-d6e044fdbd11.png)\n",
    "I did not realize that when iterating through an arraylist using the enhanced for loop, that it already gets each vehicle and you do not need to use the get() function.\n",
    "\n",
    "### Question 15\n",
    "![image](https://user-images.githubusercontent.com/89223402/200199464-1edb5341-35c9-4a96-9b14-d2008d40edfd.png)\n",
    "I chose I and II only, even though it was only I. It cannot be the second option because when it tries to check if data[k] > data[k + 1], it gets an out of bounds exception as data[k+1] on the last iteration is out of bounds.\n",
    "\n",
    "### Question 30\n",
    "![image](https://user-images.githubusercontent.com/89223402/200199691-59935a1b-3960-4269-9798-cacdf218d7c3.png)\n",
    "This returns only ``` ilercom ``` and not ``` ilercomp ```, as the final index of the second part is to up to howFar, which would only be ``` com ```.\n",
    "\n",
    "### Question 31\n",
    "![image](https://user-images.githubusercontent.com/89223402/200200146-ff6560d4-38cc-4783-b9ee-276821cafb5b.png)\n",
    "In this case, I believed that the same array would be printed because I thought that passing it into the function does not actually change its values. However, it seems like passing it into the function still does change the values of it and thus would give the result.\n",
    "\n",
    "### Question 33\n",
    "![image](https://user-images.githubusercontent.com/89223402/200200269-f3ccd27a-956e-4215-af7d-ac2c2256f03a.png)\n",
    "On this one, I believed that incrementing the sum would eventually close the loop. However, because of the OR gate, it would continue on infinitely because k never increments and it would satisfy the while loop condition.\n",
    "\n",
    "### Question 34\n",
    "![image](https://user-images.githubusercontent.com/89223402/200200387-53f285a8-dbfa-49f9-8a71-b6ca5185a148.png)\n",
    "Only II works in this one, as in choice III, x and y are private variables and thus cannot be accessed and modified in that way by the missing code.\n",
    "\n",
    "### Question 39\n",
    "![image](https://user-images.githubusercontent.com/89223402/200200420-5d10fdc2-f688-4276-8151-8db4fa98009d.png)\n",
    "I did not notice that it was ```return recur(recur(n/3));``` and not ```return recur(n/3);```. As a result, it would actually go from 27 to 9 to 18 to 6 to 12 to 4 to 8 to 16."
   ]
  }
 ],
 "metadata": {
  "kernelspec": {
   "display_name": "Java",
   "language": "java",
   "name": "java"
  },
  "language_info": {
   "codemirror_mode": "java",
   "file_extension": ".jshell",
   "mimetype": "text/x-java-source",
   "name": "java",
   "pygments_lexer": "java",
   "version": "11.0.16+8-post-Ubuntu-0ubuntu122.04"
  },
  "orig_nbformat": 4
 },
 "nbformat": 4,
 "nbformat_minor": 2
}
