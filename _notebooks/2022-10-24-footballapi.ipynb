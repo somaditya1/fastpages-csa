{
 "cells": [
  {
   "cell_type": "code",
   "execution_count": 1,
   "metadata": {},
   "outputs": [
    {
     "name": "stdout",
     "output_type": "stream",
     "text": [
      "{\"_embedded\":{\"teamReceivingStatsList\":[{\"name\":\"Falcons\",\"receives\":459,\"touchdowns\":29,\"yards\":5049,\"_links\":{\"receiving-stats\":{\"href\":\"http://nflteamstatsapi-env.eba-ri96jifs.us-east-1.elasticbeanstalk.com/v1/nfl-stats/teams/passing-stats/offense/2019\"}}},{\"name\":\"Saints\",\"receives\":418,\"touchdowns\":36,\"yards\":4431,\"_links\":{\"receiving-stats\":{\"href\":\"http://nflteamstatsapi-env.eba-ri96jifs.us-east-1.elasticbeanstalk.com/v1/nfl-stats/teams/passing-stats/offense/2019\"}}},{\"name\":\"Rams\",\"receives\":397,\"touchdowns\":22,\"yards\":4669,\"_links\":{\"receiving-stats\":{\"href\":\"http://nflteamstatsapi-env.eba-ri96jifs.us-east-1.elasticbeanstalk.com/v1/nfl-stats/teams/passing-stats/offense/2019\"}}},{\"name\":\"Chargers\",\"receives\":394,\"touchdowns\":24,\"yards\":4648,\"_links\":{\"receiving-stats\":{\"href\":\"http://nflteamstatsapi-env.eba-ri96jifs.us-east-1.elasticbeanstalk.com/v1/nfl-stats/teams/passing-stats/offense/2019\"}}},{\"name\":\"Eagles\",\"receives\":391,\"touchdowns\":27,\"yards\":4063,\"_links\":{\"receiving-stats\":{\"href\":\"http://nflteamstatsapi-env.eba-ri96jifs.us-east-1.elasticbeanstalk.com/v1/nfl-stats/teams/passing-stats/offense/2019\"}}},{\"name\":\"Cowboys\",\"receives\":388,\"touchdowns\":30,\"yards\":4902,\"_links\":{\"receiving-stats\":{\"href\":\"http://nflteamstatsapi-env.eba-ri96jifs.us-east-1.elasticbeanstalk.com/v1/nfl-stats/teams/passing-stats/offense/2019\"}}},{\"name\":\"Panthers\",\"receives\":382,\"touchdowns\":17,\"yards\":4134,\"_links\":{\"receiving-stats\":{\"href\":\"http://nflteamstatsapi-env.eba-ri96jifs.us-east-1.elasticbeanstalk.com/v1/nfl-stats/teams/passing-stats/offense/2019\"}}},{\"name\":\"Buccaneers\",\"receives\":382,\"touchdowns\":33,\"yards\":5127,\"_links\":{\"receiving-stats\":{\"href\":\"http://nflteamstatsapi-env.eba-ri96jifs.us-east-1.elasticbeanstalk.com/v1/nfl-stats/teams/passing-stats/offense/2019\"}}},{\"name\":\"Chiefs\",\"receives\":378,\"touchdowns\":30,\"yards\":4690,\"_links\":{\"receiving-stats\":{\"href\":\"http://nflteamstatsapi-env.eba-ri96jifs.us-east-1.elasticbeanstalk.com/v1/nfl-stats/teams/passing-stats/offense/2019\"}}},{\"name\":\"Patriots\",\"receives\":378,\"touchdowns\":25,\"yards\":4153,\"_links\":{\"receiving-stats\":{\"href\":\"http://nflteamstatsapi-env.eba-ri96jifs.us-east-1.elasticbeanstalk.com/v1/nfl-stats/teams/passing-stats/offense/2019\"}}},{\"name\":\"Giants\",\"receives\":376,\"touchdowns\":30,\"yards\":4070,\"_links\":{\"receiving-stats\":{\"href\":\"http://nflteamstatsapi-env.eba-ri96jifs.us-east-1.elasticbeanstalk.com/v1/nfl-stats/teams/passing-stats/offense/2019\"}}},{\"name\":\"Bears\",\"receives\":371,\"touchdowns\":20,\"yards\":3573,\"_links\":{\"receiving-stats\":{\"href\":\"http://nflteamstatsapi-env.eba-ri96jifs.us-east-1.elasticbeanstalk.com/v1/nfl-stats/teams/passing-stats/offense/2019\"}}},{\"name\":\"Dolphins\",\"receives\":371,\"touchdowns\":22,\"yards\":4117,\"_links\":{\"receiving-stats\":{\"href\":\"http://nflteamstatsapi-env.eba-ri96jifs.us-east-1.elasticbeanstalk.com/v1/nfl-stats/teams/passing-stats/offense/2019\"}}},{\"name\":\"Raiders\",\"receives\":367,\"touchdowns\":22,\"yards\":4110,\"_links\":{\"receiving-stats\":{\"href\":\"http://nflteamstatsapi-env.eba-ri96jifs.us-east-1.elasticbeanstalk.com/v1/nfl-stats/teams/passing-stats/offense/2019\"}}},{\"name\":\"Jaguars\",\"receives\":364,\"touchdowns\":24,\"yards\":4023,\"_links\":{\"receiving-stats\":{\"href\":\"http://nflteamstatsapi-env.eba-ri96jifs.us-east-1.elasticbeanstalk.com/v1/nfl-stats/teams/passing-stats/offense/2019\"}}},{\"name\":\"Bengals\",\"receives\":356,\"touchdowns\":18,\"yards\":3994,\"_links\":{\"receiving-stats\":{\"href\":\"http://nflteamstatsapi-env.eba-ri96jifs.us-east-1.elasticbeanstalk.com/v1/nfl-stats/teams/passing-stats/offense/2019\"}}},{\"name\":\"Packers\",\"receives\":356,\"touchdowns\":26,\"yards\":4017,\"_links\":{\"receiving-stats\":{\"href\":\"http://nflteamstatsapi-env.eba-ri96jifs.us-east-1.elasticbeanstalk.com/v1/nfl-stats/teams/passing-stats/offense/2019\"}}},{\"name\":\"Texans\",\"receives\":355,\"touchdowns\":27,\"yards\":4083,\"_links\":{\"receiving-stats\":{\"href\":\"http://nflteamstatsapi-env.eba-ri96jifs.us-east-1.elasticbeanstalk.com/v1/nfl-stats/teams/passing-stats/offense/2019\"}}},{\"name\":\"Cardinals\",\"receives\":355,\"touchdowns\":20,\"yards\":3797,\"_links\":{\"receiving-stats\":{\"href\":\"http://nflteamstatsapi-env.eba-ri96jifs.us-east-1.elasticbeanstalk.com/v1/nfl-stats/teams/passing-stats/offense/2019\"}}},{\"name\":\"Lions\",\"receives\":344,\"touchdowns\":28,\"yards\":4187,\"_links\":{\"receiving-stats\":{\"href\":\"http://nflteamstatsapi-env.eba-ri96jifs.us-east-1.elasticbeanstalk.com/v1/nfl-stats/teams/passing-stats/offense/2019\"}}},{\"name\":\"Seahawks\",\"receives\":341,\"touchdowns\":31,\"yards\":4110,\"_links\":{\"receiving-stats\":{\"href\":\"http://nflteamstatsapi-env.eba-ri96jifs.us-east-1.elasticbeanstalk.com/v1/nfl-stats/teams/passing-stats/offense/2019\"}}},{\"name\":\"49ers\",\"receives\":331,\"touchdowns\":28,\"yards\":4029,\"_links\":{\"receiving-stats\":{\"href\":\"http://nflteamstatsapi-env.eba-ri96jifs.us-east-1.elasticbeanstalk.com/v1/nfl-stats/teams/passing-stats/offense/2019\"}}},{\"name\":\"Jets\",\"receives\":323,\"touchdowns\":19,\"yards\":3443,\"_links\":{\"receiving-stats\":{\"href\":\"http://nflteamstatsapi-env.eba-ri96jifs.us-east-1.elasticbeanstalk.com/v1/nfl-stats/teams/passing-stats/offense/2019\"}}},{\"name\":\"Vikings\",\"receives\":319,\"touchdowns\":26,\"yards\":3729,\"_links\":{\"receiving-stats\":{\"href\":\"http://nflteamstatsapi-env.eba-ri96jifs.us-east-1.elasticbeanstalk.com/v1/nfl-stats/teams/passing-stats/offense/2019\"}}},{\"name\":\"Browns\",\"receives\":318,\"touchdowns\":22,\"yards\":3847,\"_links\":{\"receiving-stats\":{\"href\":\"http://nflteamstatsapi-env.eba-ri96jifs.us-east-1.elasticbeanstalk.com/v1/nfl-stats/teams/passing-stats/offense/2019\"}}},{\"name\":\"Steelers\",\"receives\":315,\"touchdowns\":18,\"yards\":3214,\"_links\":{\"receiving-stats\":{\"href\":\"http://nflteamstatsapi-env.eba-ri96jifs.us-east-1.elasticbeanstalk.com/v1/nfl-stats/teams/passing-stats/offense/2019\"}}},{\"name\":\"Broncos\",\"receives\":312,\"touchdowns\":16,\"yards\":3401,\"_links\":{\"receiving-stats\":{\"href\":\"http://nflteamstatsapi-env.eba-ri96jifs.us-east-1.elasticbeanstalk.com/v1/nfl-stats/teams/passing-stats/offense/2019\"}}},{\"name\":\"Colts\",\"receives\":307,\"touchdowns\":22,\"yards\":3314,\"_links\":{\"receiving-stats\":{\"href\":\"http://nflteamstatsapi-env.eba-ri96jifs.us-east-1.elasticbeanstalk.com/v1/nfl-stats/teams/passing-stats/offense/2019\"}}},{\"name\":\"Bills\",\"receives\":299,\"touchdowns\":21,\"yards\":3476,\"_links\":{\"receiving-stats\":{\"href\":\"http://nflteamstatsapi-env.eba-ri96jifs.us-east-1.elasticbeanstalk.com/v1/nfl-stats/teams/passing-stats/offense/2019\"}}},{\"name\":\"Redskins\",\"receives\":298,\"touchdowns\":18,\"yards\":3205,\"_links\":{\"receiving-stats\":{\"href\":\"http://nflteamstatsapi-env.eba-ri96jifs.us-east-1.elasticbeanstalk.com/v1/nfl-stats/teams/passing-stats/offense/2019\"}}},{\"name\":\"Titans\",\"receives\":297,\"touchdowns\":29,\"yards\":3956,\"_links\":{\"receiving-stats\":{\"href\":\"http://nflteamstatsapi-env.eba-ri96jifs.us-east-1.elasticbeanstalk.com/v1/nfl-stats/teams/passing-stats/offense/2019\"}}},{\"name\":\"Ravens\",\"receives\":289,\"touchdowns\":37,\"yards\":3350,\"_links\":{\"receiving-stats\":{\"href\":\"http://nflteamstatsapi-env.eba-ri96jifs.us-east-1.elasticbeanstalk.com/v1/nfl-stats/teams/passing-stats/offense/2019\"}}}]},\"_links\":{\"self\":{\"href\":\"http://nflteamstatsapi-env.eba-ri96jifs.us-east-1.elasticbeanstalk.com/v1/nfl-stats/teams/receiving-stats/offense/2019\"}}}\n"
     ]
    }
   ],
   "source": [
    "import requests\n",
    "\n",
    "url = \"https://nfl-team-stats.p.rapidapi.com/v1/nfl-stats/teams/receiving-stats/offense/2019\"\n",
    "\n",
    "headers = {\n",
    "    \"X-RapidAPI-Key\": \"f34f39d457msh80116afa9392991p16f534jsn6a54d17a536d\",\n",
    "    \"X-RapidAPI-Host\": \"nfl-team-stats.p.rapidapi.com\"\n",
    "}\n",
    "\n",
    "response = requests.request(\"GET\", url, headers=headers)\n",
    "\n",
    "print(response.text)\n"
   ]
  }
 ],
 "metadata": {
  "kernelspec": {
   "display_name": "Python 3.10.4 64-bit",
   "language": "python",
   "name": "python3"
  },
  "language_info": {
   "codemirror_mode": {
    "name": "ipython",
    "version": 3
   },
   "file_extension": ".py",
   "mimetype": "text/x-python",
   "name": "python",
   "nbconvert_exporter": "python",
   "pygments_lexer": "ipython3",
   "version": "3.10.4"
  },
  "orig_nbformat": 4,
  "vscode": {
   "interpreter": {
    "hash": "916dbcbb3f70747c44a77c7bcd40155683ae19c65e1c03b4aa3499c5328201f1"
   }
  }
 },
 "nbformat": 4,
 "nbformat_minor": 2
}
