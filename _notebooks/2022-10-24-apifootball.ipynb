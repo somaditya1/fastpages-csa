{
 "cells": [
  {
   "cell_type": "code",
   "execution_count": 2,
   "metadata": {
    "vscode": {
     "languageId": "java"
    }
   },
   "outputs": [],
   "source": [
    "import java.net.URI;\n",
    "import java.net.http.HttpClient;\n",
    "import java.net.http.HttpRequest;\n",
    "import java.net.http.HttpResponse;\n",
    "\n",
    "public class MyClass {\n",
    "    public static void main(String args[]) {\n",
    "        HttpRequest request = HttpRequest.newBuilder()\n",
    "            .uri(URI.create(\"https://nfl-team-stats.p.rapidapi.com/v1/nfl-stats/teams/receiving-stats/offense/2019\"))\n",
    "            .header(\"X-RapidAPI-Key\", \"f34f39d457msh80116afa9392991p16f534jsn6a54d17a536d\")\n",
    "            .header(\"X-RapidAPI-Host\", \"nfl-team-stats.p.rapidapi.com\")\n",
    "            .method(\"GET\", HttpRequest.BodyPublishers.noBody())\n",
    "            .build();\n",
    "        try {\n",
    "            HttpResponse<String> response = HttpClient.newHttpClient().send(request, HttpResponse.BodyHandlers.ofString());\n",
    "            System.out.println(response.body());\n",
    "        } catch (Exception e) {\n",
    "            e.printStackTrace();\n",
    "        }\n",
    "    }\n",
    "}"
   ]
  }
 ],
 "metadata": {
  "kernelspec": {
   "display_name": "Java",
   "language": "java",
   "name": "java"
  },
  "language_info": {
   "codemirror_mode": "java",
   "file_extension": ".jshell",
   "mimetype": "text/x-java-source",
   "name": "Java",
   "pygments_lexer": "java",
   "version": "11.0.16+8-post-Ubuntu-0ubuntu122.04"
  },
  "orig_nbformat": 4
 },
 "nbformat": 4,
 "nbformat_minor": 2
}
