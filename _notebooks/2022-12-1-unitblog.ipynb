{
 "cells": [
  {
   "cell_type": "markdown",
   "metadata": {},
   "source": [
    "Casting - Division: Round Division statement to the nearest integer. This can be used when a program can only handly integers\n",
    "Casting - Rounding: Allows an equation to be rounded to the nearest integer, which can be very helpful\n",
    "Wrapper Classes: Classes that can be created into a primtive type, such as int or boolean"
   ]
  },
  {
   "cell_type": "code",
   "execution_count": null,
   "metadata": {},
   "outputs": [],
   "source": []
  }
 ],
 "metadata": {
  "kernelspec": {
   "display_name": "Java",
   "language": "java",
   "name": "java"
  },
  "language_info": {
   "name": "java"
  },
  "orig_nbformat": 4
 },
 "nbformat": 4,
 "nbformat_minor": 2
}
