{
 "cells": [
  {
   "cell_type": "markdown",
   "metadata": {},
   "source": [
    "Casting - Division: Round Division statement to the nearest integer. This can be used when a program can only handly integers\n",
    "\n",
    "Casting - Rounding: Allows an equation to be rounded to the nearest integer, which can be very helpful\n",
    "\n",
    "Wrapper Classes: Classes that can be created into a primtive type, such as int or boolean"
   ]
  },
  {
   "cell_type": "code",
   "execution_count": 1,
   "metadata": {
    "vscode": {
     "languageId": "java"
    }
   },
   "outputs": [
    {
     "name": "stdout",
     "output_type": "stream",
     "text": [
      "2\n",
      "20\n"
     ]
    }
   ],
   "source": [
    "double one = 3.05;\n",
    "double two = 6.72;\n",
    "\n",
    "int three = (int) (two/one);\n",
    "int multi = (int) (one*two);\n",
    "\n",
    "System.out.println(three);\n",
    "System.out.println(multi);"
   ]
  },
  {
   "cell_type": "markdown",
   "metadata": {},
   "source": [
    "Abstract Class: Hiding certain details but making a barebones of something. For example, an abstract class could be car and then each class inherited would be like SUV or Truck.\n",
    "Super Class: By using super class you can reference the upper class"
   ]
  },
  {
   "cell_type": "code",
   "execution_count": 2,
   "metadata": {
    "vscode": {
     "languageId": "java"
    }
   },
   "outputs": [
    {
     "name": "stdout",
     "output_type": "stream",
     "text": [
      "The SUV is saying hi\n",
      "The truck is saying hi\n"
     ]
    }
   ],
   "source": [
    "abstract class Car {\n",
    "    public void hi() {\n",
    "        System.out.println(\"Barebones Class\");\n",
    "    }\n",
    "}\n",
    "\n",
    "class SUV extends Car {\n",
    "    public void hi() {\n",
    "        System.out.println(\"The SUV is saying hi\");\n",
    "    }\n",
    "}\n",
    "\n",
    "class Truck extends Car {\n",
    "    public void hi() {\n",
    "        System.out.println(\"The truck is saying hi\");\n",
    "    }\n",
    "}\n",
    "\n",
    "// Instantiating the Car class would throw an error as it is abstract\n",
    "SUV suv = new SUV();\n",
    "Truck truck = new Truck();\n",
    "suv.hi();\n",
    "truck.hi();"
   ]
  },
  {
   "cell_type": "markdown",
   "metadata": {},
   "source": [
    "Big O Notation: Big O notation is very helpful as it tells you how efficient your algorithm or program is. For example traversing an array would be O(n) because it depends on the size of n for how long the program will go. If you have a nested for loop then it would be O(n^2) because for each n you have another n. Hash map is O(1) and binary search is O(logn)."
   ]
  },
  {
   "cell_type": "markdown",
   "metadata": {},
   "source": [
    "Polymorphism: Allows you to have multiple methods with the same name in one class. This allows you to have multiple ways to do something that is dependant on what is being passed in into the class.\n",
    "Overloading is when there are many methods that have different parameters\n",
    "Overriding is when there is a method with the same name but you modify in subclass\n",
    "Late binding is when the compiler chooses which method to use"
   ]
  },
  {
   "cell_type": "code",
   "execution_count": 4,
   "metadata": {
    "vscode": {
     "languageId": "java"
    }
   },
   "outputs": [
    {
     "name": "stdout",
     "output_type": "stream",
     "text": [
      "Integer: 1\n",
      "String: Hello\n",
      "Double: 1.0\n"
     ]
    }
   ],
   "source": [
    "public class PolymorphismExample {\n",
    "    public void yo(int x) {\n",
    "        System.out.println(\"Integer: \" + x);\n",
    "    }\n",
    "\n",
    "    public void yo(String x) {\n",
    "        System.out.println(\"String: \" + x);\n",
    "    }\n",
    "    \n",
    "    public void yo(double x) {\n",
    "        System.out.println(\"Double: \" + x);\n",
    "    }\n",
    "\n",
    "}\n",
    "\n",
    "PolymorphismExample poly = new PolymorphismExample();\n",
    "poly.yo(1);\n",
    "poly.yo(\"Hello\");\n",
    "poly.yo(1.0);"
   ]
  },
  {
   "cell_type": "markdown",
   "metadata": {},
   "source": [
    "Concatenation: The process of joining two strings together. The + operator is used to concatenate two strings together.\n",
    "Java Math Class: The import java math class gives a lot of math operations and features that can be used in your code\n",
    "Compound Boolean Expression: If/Else statement block"
   ]
  },
  {
   "cell_type": "code",
   "execution_count": 6,
   "metadata": {
    "vscode": {
     "languageId": "java"
    }
   },
   "outputs": [
    {
     "name": "stdout",
     "output_type": "stream",
     "text": [
      "Steve Smith\n",
      "10\n",
      "3.1622776601683795\n",
      "Hello\n"
     ]
    }
   ],
   "source": [
    "// Concatenation\n",
    "\n",
    "String name = \"Steve\";\n",
    "String lastName = \"Smith\";\n",
    "\n",
    "System.out.println(name + \" \" + lastName);\n",
    "\n",
    "// Java Math Class\n",
    "\n",
    "import java.lang.Math;\n",
    "int max = 10;\n",
    "int min = 1;\n",
    "int range = max - min + 1;\n",
    "int rand = (int)(Math.random() * range) + min;\n",
    "System.out.println(rand);\n",
    "System.out.println(Math.sqrt(rand));\n",
    "\n",
    "// Compound Boolean Expression\n",
    "\n",
    "if (true) {\n",
    "    System.out.println(\"Hello\");\n",
    "} else if (false) {\n",
    "    System.out.println(\"World\");\n",
    "} else {\n",
    "    System.out.println(\"!\");\n",
    "}"
   ]
  }
 ],
 "metadata": {
  "kernelspec": {
   "display_name": "Java",
   "language": "java",
   "name": "java"
  },
  "language_info": {
   "codemirror_mode": "java",
   "file_extension": ".jshell",
   "mimetype": "text/x-java-source",
   "name": "Java",
   "pygments_lexer": "java",
   "version": "11.0.16+8-post-Ubuntu-0ubuntu122.04"
  },
  "orig_nbformat": 4
 },
 "nbformat": 4,
 "nbformat_minor": 2
}
