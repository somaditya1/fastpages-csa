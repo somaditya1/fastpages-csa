{
 "cells": [
  {
   "cell_type": "markdown",
   "metadata": {},
   "source": [
    "##Java Lesson \n",
    "If Statements\n",
    "If statements evaluate the conditional given, and if true, execute the code block inside the statement."
   ]
  },
  {
   "cell_type": "code",
   "execution_count": 1,
   "metadata": {
    "vscode": {
     "languageId": "java"
    }
   },
   "outputs": [
    {
     "name": "stdout",
     "output_type": "stream",
     "text": [
      "Enter a number: 2.0\n",
      "Enter another number: 4.0\n"
     ]
    }
   ],
   "source": [
    "import java.util.Scanner;\n",
    "Scanner scanner = new Scanner(System.in);\n",
    "\n",
    "double x;\n",
    "double y;\n",
    "\n",
    "System.out.print(\"Enter a number: \");\n",
    "\n",
    "x = scanner.nextDouble();\n",
    "\n",
    "System.out.println(x);\n",
    "\n",
    "System.out.print(\"Enter another number: \");\n",
    "\n",
    "y = scanner.nextDouble();\n",
    "\n",
    "System.out.println(y);\n",
    "\n",
    "// Modulo function returns remainder of x and y\n",
    "// checks if remainder of x and y is 0 (meaning it is divisible)\n",
    "if (x % y == 0) {\n",
    "  System.out.println(x + \" is divisible by \" + y);\n",
    "}"
   ]
  },
  {
   "cell_type": "markdown",
   "metadata": {},
   "source": [
    "If-Else Statements\n",
    "If statements contain code to be run if a given conditional is true. Else statements contain code to be run if that conditional is proven false."
   ]
  },
  {
   "cell_type": "code",
   "execution_count": 2,
   "metadata": {
    "vscode": {
     "languageId": "java"
    }
   },
   "outputs": [
    {
     "name": "stdout",
     "output_type": "stream",
     "text": [
      "Enter a number: 2.0\n",
      "Enter another number: 4.0\n",
      "2.0 is NOT divisible by 4.0\n"
     ]
    }
   ],
   "source": [
    "import java.util.Scanner;\n",
    "Scanner scanner = new Scanner(System.in);\n",
    "\n",
    "double x;\n",
    "double y;\n",
    "\n",
    "System.out.print(\"Enter a number: \");\n",
    "\n",
    "x = scanner.nextDouble();\n",
    "\n",
    "System.out.println(x);\n",
    "\n",
    "System.out.print(\"Enter another number: \");\n",
    "\n",
    "y = scanner.nextDouble();\n",
    "\n",
    "System.out.println(y);\n",
    "\n",
    "// Modulo function returns remainder of x and y\n",
    "// checks if remainder of x and y is 0 (meaning it is divisible)\n",
    "if (x % y == 0) {\n",
    "  System.out.println(x + \" is divisible by \" + y);\n",
    "} else { // the code below runs if the remainder of x and y is NOT 0\n",
    "  System.out.println(x + \" is NOT divisible by \" + y);\n",
    "}"
   ]
  },
  {
   "cell_type": "markdown",
   "metadata": {},
   "source": [
    "If-elseif-else\n",
    "Elseif blocks come between if and else statements. Elseif statements function similar to if statements in that they contain code that is run if a given conditional is true. However, elseif statements only run if the prior if or elseif block is false. Otherwise, they are passed over.\n",
    "\n"
   ]
  },
  {
   "cell_type": "code",
   "execution_count": 3,
   "metadata": {
    "vscode": {
     "languageId": "java"
    }
   },
   "outputs": [
    {
     "name": "stdout",
     "output_type": "stream",
     "text": [
      "Enter a number: 4.0\n",
      "Enter another number: 6.0\n",
      "4.0 is less than 6.0\n"
     ]
    }
   ],
   "source": [
    "import java.util.Scanner;\n",
    "Scanner scanner = new Scanner(System.in);\n",
    "\n",
    "double x;\n",
    "double y;\n",
    "\n",
    "System.out.print(\"Enter a number: \");\n",
    "\n",
    "x = scanner.nextDouble();\n",
    "\n",
    "System.out.println(x);\n",
    "\n",
    "System.out.print(\"Enter another number: \");\n",
    "\n",
    "y = scanner.nextDouble();\n",
    "\n",
    "System.out.println(y);\n",
    "\n",
    "if (x > y) { // checks if x is greater than y\n",
    "    System.out.println(x + \" is greater than \" + y);\n",
    "} else if (x == y) { // if x isnt greater than y, check if theyre equal\n",
    "    System.out.println(x + \" is equal to \" + y);\n",
    "} else { // only option is x being less than y\n",
    "    System.out.println(x + \" is less than \" + y);\n",
    "}"
   ]
  },
  {
   "cell_type": "markdown",
   "metadata": {},
   "source": [
    "Multiple elseifs"
   ]
  },
  {
   "cell_type": "code",
   "execution_count": 4,
   "metadata": {
    "vscode": {
     "languageId": "java"
    }
   },
   "outputs": [
    {
     "name": "stdout",
     "output_type": "stream",
     "text": [
      "First number: 5.0\n",
      "Enter the operation (+,-,*,/): +\n",
      "second number: 5.0\n",
      "10.0\n"
     ]
    }
   ],
   "source": [
    "import java.util.Scanner;\n",
    "Scanner scanner = new Scanner(System.in);\n",
    "\n",
    "double x;\n",
    "double y;\n",
    "\n",
    "System.out.print(\"First number: \");\n",
    "\n",
    "x = scanner.nextDouble();\n",
    "\n",
    "System.out.println(x);\n",
    "\n",
    "System.out.print(\"Enter the operation (+,-,*,/): \");\n",
    "\n",
    "char operator = scanner.next().charAt(0);\n",
    "\n",
    "System.out.println(operator);\n",
    "\n",
    "System.out.print(\"second number: \");\n",
    "\n",
    "y = scanner.nextDouble();\n",
    "\n",
    "System.out.println(y);\n",
    "\n",
    "if (operator == '+') {\n",
    "  System.out.println(x + y);\n",
    "} else if (operator == '-') {\n",
    "  System.out.println(x - y);\n",
    "} else if (operator == '*') {\n",
    "  System.out.println(x * y);\n",
    "} else if (operator == '/') {\n",
    "  System.out.println(x / y);\n",
    "} else {\n",
    "  System.out.println(\"Invalid operator\");\n",
    "}"
   ]
  },
  {
   "cell_type": "code",
   "execution_count": 5,
   "metadata": {
    "vscode": {
     "languageId": "java"
    }
   },
   "outputs": [
    {
     "name": "stdout",
     "output_type": "stream",
     "text": [
      "Enter a color (r,g,b,y): r\n",
      "type a message\n",
      "The final result: \n",
      "\u001b[31mhello\n"
     ]
    }
   ],
   "source": [
    "double num1, num2;\n",
    "\n",
    "Scanner scanner = new Scanner(System.in);\n",
    "\n",
    "System.out.print(\"Enter a color (r,g,b,y): \");\n",
    "\n",
    "char color = scanner.next().charAt(0);\n",
    "\n",
    "System.out.println(color);\n",
    "\n",
    "Scanner newScanner = new Scanner(System.in);\n",
    "\n",
    "System.out.println(\"type a message\");\n",
    "String message = newScanner.nextLine();\n",
    "\n",
    "\n",
    "String output = \"\";\n",
    "\n",
    "switch (color) {\n",
    "\n",
    "case 'r':\n",
    "\n",
    "    output = \"\\u001B[31m\";\n",
    "\n",
    "    break;\n",
    "\n",
    "case 'g':\n",
    "\n",
    "    output = \"\\u001B[32m\";\n",
    "\n",
    "    break;\n",
    "\n",
    "case 'b':\n",
    "\n",
    "    output = \"\\u001B[34m\";\n",
    "\n",
    "    break;\n",
    "case 'y':\n",
    "\n",
    "    output = \"\\u001B[33m\";\n",
    "\n",
    "    break;\n",
    "\n",
    "default:\n",
    "\n",
    "    System.out.println(\"invalid color\");\n",
    "\n",
    "    break;\n",
    "}\n",
    "\n",
    "System.out.println(\"The final result: \");\n",
    "\n",
    "System.out.println(output + message);"
   ]
  },
  {
   "cell_type": "markdown",
   "metadata": {},
   "source": [
    "De Morgan's Law\n",
    "Augstus De Morgan developed DeMorgan's laws in the 1800s. DeMorgan's law explains complex conditional negation. A complex conditional is multiple conditional statements joined by a logical operator.\n",
    "\n",
    "not (a and b) is the same as (not a) or (not b). In Java this is written as !(a && b) == !a || !b\n",
    "\n",
    "not (a or b) is the same as (not a) and (not b). In Java this is written as !(a || b) == !a && !b\n",
    "\n",
    "Negation modifies each conditional."
   ]
  },
  {
   "cell_type": "code",
   "execution_count": 6,
   "metadata": {
    "vscode": {
     "languageId": "java"
    }
   },
   "outputs": [
    {
     "name": "stdout",
     "output_type": "stream",
     "text": [
      "false\n"
     ]
    }
   ],
   "source": [
    "public class DeMorgansAndTest\n",
    "{\n",
    "   public static void main(String[] args)\n",
    "   {\n",
    "     int x = 15;\n",
    "     int y = 164;\n",
    "     System.out.println(!(x<20 && y > 100));\n",
    "     // prints true if x is not less than 20 or if y is not greater than 100\n",
    "     // prints false if none of these are true\n",
    "     // this output should be false since x is less than 20 and y is greater than 100\n",
    "   }\n",
    "}\n",
    "\n",
    "DeMorgansAndTest.main(null)"
   ]
  },
  {
   "cell_type": "code",
   "execution_count": 7,
   "metadata": {
    "vscode": {
     "languageId": "java"
    }
   },
   "outputs": [
    {
     "name": "stdout",
     "output_type": "stream",
     "text": [
      "true\n"
     ]
    }
   ],
   "source": [
    "public class DeMorgansOrTest\n",
    "{\n",
    "   public static void main(String[] args)\n",
    "   {\n",
    "     int x = 124;\n",
    "     int y = 9;\n",
    "     System.out.println(!(x > 200 || y < 2));\n",
    "     // prints true if x is not > 200 AND y is not < 2\n",
    "     // prints false otherwise\n",
    "     // this output should be true as x is NOT greater than 200 and y is NOT less than 2\n",
    "   }\n",
    "}\n",
    "DeMorgansOrTest.main(null)"
   ]
  },
  {
   "cell_type": "markdown",
   "metadata": {},
   "source": [
    "##Short and Long Term Goals\n",
    "Bench 225 by end of the school year hopefully\n",
    "Learn more in areas of interest such as CS, Math, Physics and Investments\n",
    "Get good grades in school\n",
    "Continue working hard at work\n",
    "Help others\n",
    "Develop better work ethic\n",
    "Develop better focus and study habits\n",
    "Stay happy mindset\n",
    "##Psychology and the Good Life Notes\n",
    "College isn’t just like admissions packet\n",
    "Students feel unfulfilled and stressed\n",
    "Anxiety is prevelant but grit is inpenatrable\n",
    "Stress takes a toll if you allow it to\n",
    "College students have more than the average amount of stress\n",
    "Stress affects future workers negatailvly\n",
    "College students have a high amount of loneliness because of work"
   ]
  }
 ],
 "metadata": {
  "kernelspec": {
   "display_name": "Java",
   "language": "java",
   "name": "java"
  },
  "language_info": {
   "codemirror_mode": "java",
   "file_extension": ".jshell",
   "mimetype": "text/x-java-source",
   "name": "Java",
   "pygments_lexer": "java",
   "version": "11.0.16+8-post-Ubuntu-0ubuntu122.04"
  },
  "orig_nbformat": 4,
  "vscode": {
   "interpreter": {
    "hash": "916dbcbb3f70747c44a77c7bcd40155683ae19c65e1c03b4aa3499c5328201f1"
   }
  }
 },
 "nbformat": 4,
 "nbformat_minor": 2
}
