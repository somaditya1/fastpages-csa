{
 "cells": [
  {
   "cell_type": "markdown",
   "metadata": {},
   "source": [
    "# Bash Installation Checks\n",
    "> Checking that everything is installed\n",
    "\n",
    "- badges: true\n",
    "- comments: true\n",
    "- categories: [jupyter, bash]\n",
    "\n"
   ]
  },
  {
   "cell_type": "markdown",
   "metadata": {},
   "source": [
    "\n",
    "# Week 1 Assignment and Hacks: Innovation - Primitives\n",
    "## Canvas Requirements\n",
    "### Code.org\n",
    "- Lessons 1-5 Completed for OOP Unit\n",
    "  <img width=“368” alt=“code.org lessons 1-5 OOP Unit” src=“https://user-images.githubusercontent.com/75715248/187126993-236b87a8-faa8-4670-b186-8456174fb01f.png”>\n",
    "### Productive Blogging\n",
    "#### [**Primitives Java Notebook**](https://somaditya1.github.io/fastpages-csa/jupyter/java/2022/08/28/first-java.html)\n",
    "- Demonstrates primitives use\n",
    "#### [**Bash Notebook**](https://somaditya1.github.io/fastpages-csa/jupyter/bash/2022/08/28/bash-tests.html)\n",
    "- Demonstrates bash use and checks for installations and versions\n",
    "- Verifies kernels\n",
    "- Notes on bash and its uses (to be added)\n",
    "#### [**APEL Vocab Hack**](https://somaditya1.github.io/fastpages-csa/2022/08/28/apel-vocab.html) and [**Fun Quiz Hack**](https://somaditya1.github.io/fastpages-csa/jupyter/python/2022/08/28/quizzes.html)\n",
    "- Created PBL and College Board Pages to organize learning\n",
    "  - PBL sorted by week to see progress and organize tools and material\n",
    "  - College Board sorted by unit and content covered\n",
    "## Others\n",
    "- [Apel Vocab](https://somaditya1.github.io/fastpages-csa/2022/08/28/apel-vocab.html)\n"
   ]
  }
 ],
 "metadata": {
  "kernelspec": {
   "display_name": "Python 3.10.4 64-bit",
   "language": "python",
   "name": "python3"
  },
  "language_info": {
   "name": "python",
   "version": "3.10.4"
  },
  "orig_nbformat": 4,
  "vscode": {
   "interpreter": {
    "hash": "916dbcbb3f70747c44a77c7bcd40155683ae19c65e1c03b4aa3499c5328201f1"
   }
  }
 },
 "nbformat": 4,
 "nbformat_minor": 2
}
