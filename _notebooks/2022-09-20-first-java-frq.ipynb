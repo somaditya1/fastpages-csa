{
 "cells": [
  {
   "cell_type": "markdown",
   "metadata": {},
   "source": [
    "# Java Notebook\n",
    "> Java test code\n",
    "\n",
    "- badges: true\n",
    "- comments: true\n",
    "- categories: [jupyter, java]"
   ]
  },
  {
   "cell_type": "markdown",
   "metadata": {},
   "source": [
    "The APCalendar class contains methods used to calculate information about a calendar. You will write two methods of the class."
   ]
  },
  {
   "cell_type": "code",
   "execution_count": null,
   "metadata": {},
   "outputs": [],
   "source": [
    "public class APCalendar\n",
    "{\n",
    "    /** Returns true if year is a leap year and false otherwise */\n",
    "    private static boolean isLeapyear(int year)\n",
    "    { /* implementation not shown */}\n",
    "\n",
    "    /** Returns the number of leap years between year1 and year2,  inclusive. \n",
    "     *  Precondition: 0 <= year1 <= year2 \n",
    "     * */ \n",
    "    public static int numberOfLeapYears(int year1, int year2)\n",
    "    { /* to be implemented in part (a) */}\n",
    "\n",
    "    /** Returns the value representing the day of the week for the first day of year, \n",
    "     *  where 0 denotes Sunday, 1 denotes Monday, ..., and 6 denotes Saturday. \n",
    "     */\n",
    "    private static int firstDayOfYear(int year)\n",
    "    { /* implementation not shown */ }\n",
    "\n",
    "    /** Returns n, where month, day,  and year specify the nth day of the year. \n",
    "     * *  Returns 1 for January 1 (month = 1, day = 1)  of any year. \n",
    "     * *  Precondition: The date represented by month, day, year is a valid date. \n",
    "     * */\n",
    "    \n",
    "    private static int dayOfYear(int month, int day, int year)\n",
    "    { /* implementation not shown */ }\n",
    "\n",
    "    /** Returns the value representing the day of the week for the given date \n",
    "     * (month, day, year),  where 0 denotes Sunday, 1 denotes Monday, ..., \n",
    "     * and 6 denotes Saturday. \n",
    "     * Precondition: The date represented by month, day, year is a valid date. \n",
    "     * *  */ \n",
    "    public static int dayOfWeek(int month, int day, int year) \n",
    "    { /* to be implemented in part (b)  */}\n",
    "\n",
    "    // there may be instance variables, constructors, and other methods not shown.\n",
    "}"
   ]
  },
  {
   "cell_type": "markdown",
   "metadata": {},
   "source": [
    "Write the static method numberOfLeapYears, which returns the number of leap years between year1 and year2, inclusive."
   ]
  },
  {
   "cell_type": "code",
   "execution_count": null,
   "metadata": {},
   "outputs": [],
   "source": [
    "/** Returns the number of leap years between year1 and year2,  inclusive. \n",
    " *  Precondition: 0 <= year1 <= year2 \n",
    " * */ \n",
    "public static int numberOfLeapYears(int year1, int year2) {\n",
    "    int leapYearCount = 0; // variable to keep track of amount of leap years\n",
    "\n",
    "    // for loop: set year to year1, and while it is not yet at year2, find out if leapyear or not\n",
    "    for(int year = year1; year <= year2; year++) {\n",
    "\n",
    "        // check the year for if it is leap year\n",
    "        if(isLeapYear(year)) {\n",
    "            leapYearCount++; // increase count\n",
    "        }\n",
    "    }\n",
    "    return leapYearCount; // return the integer for the count of leap years\n",
    "}"
   ]
  },
  {
   "cell_type": "markdown",
   "metadata": {},
   "source": [
    "The approach I took was to make a loop to go through all the years between the two years, and check if it was a leap year. If it was, it would add one to the count of the leap year. As seen above, this is that pseudocode written in actual java. Comparing to the solution code, it is almost identitcal (with the variable names as the exception).\n",
    "\n",
    "(b) dayOfWeek\n",
    "\n",
    "Write the static method dayOfWeek, which returns the integer value representing the day of the week for the given date (month, day, year), where 0 denotes Sunday, 1 denotes Monday, ..., and 6 denotes Saturday. For example, 2019 began on a Tuesday, and January 5 is the fifth day of 2019. As a result, January 5, 2019, fell on a Saturday, and the method call dayOfWeek(1, 5, 2019) returns 6."
   ]
  },
  {
   "cell_type": "code",
   "execution_count": null,
   "metadata": {},
   "outputs": [],
   "source": [
    "/** Returns the value representing the day of the week for the given date \n",
    " * (month, day, year),  where 0 denotes Sunday, 1 denotes Monday, ..., \n",
    " * and 6 denotes Saturday. \n",
    " * Precondition: The date represented by month, day, year is a valid date. \n",
    " * *  */ \n",
    "public static int dayOfWeek(int month, int day, int year) {\n",
    "    firstDay = firstDayOfYear(year); // store the day of the week of the first day\n",
    "    dayAfterNew = dayOfYear(month, day, year); // store the number of days since new year (inclusive)\n",
    "\n",
    "    return (firstDay + dayAfterNew - 1) % 7; // adds the day of the week to the days since new year, but minus 1 because the dayAfterNew includes the first day. then, mod 7\n",
    "}"
   ]
  },
  {
   "cell_type": "markdown",
   "metadata": {},
   "source": [
    "I set variables for the firstDay day of the week, and the days after the new year as dayAfterNew. Then, I returned the value of them added minus 1 to get some number, and modulus 7 to take the modulus (remainder). The remainder would be the day of the week, which is what is returned.Comparing to the answer, I see that the solution has the return value stored within another variable, so it is almost identitical."
   ]
  }
 ],
 "metadata": {
  "kernelspec": {
   "display_name": "Java",
   "language": "java",
   "name": "java"
  },
  "language_info": {
   "codemirror_mode": "java",
   "file_extension": ".jshell",
   "mimetype": "text/x-java-source",
   "name": "java",
   "pygments_lexer": "java",
   "version": "11.0.16+8-post-Ubuntu-0ubuntu122.04"
  },
  "orig_nbformat": 4
 },
 "nbformat": 4,
 "nbformat_minor": 2
}
