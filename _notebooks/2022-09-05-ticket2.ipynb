{
 "cells": [
  {
   "cell_type": "markdown",
   "metadata": {},
   "source": [
    "---\n",
    "toc: true\n",
    "layout: post\n",
    "description: A minimal example of using markdown with fastpages.\n",
    "categories: [markdown]\n",
    "title: Week 2 - Primitives\n",
    "---\n",
    "\n",
    "# Hacks\n",
    "- Java Menu Created with colors & input\n",
    "- Code.org up to 15\n",
    "\n",
    "## Review Ticket\n",
    "[Issue](https://github.com/somaditya1/fastpages-csa/issues/3)\n",
    "\n",
    "## Notebooks \n",
    "[Java Menu Notebook]()\n",
    "\n",
    "\n",
    "## Code.org Learning\n",
    "\n",
    "![Screen Shot 2022-09-05 at 3 01 32 PM](https://user-images.githubusercontent.com/70538669/188515967-d5cd29ad-2cd5-454c-a3f1-c75f2f6c129a.png)\n"
   ]
  }
 ],
 "metadata": {
  "kernelspec": {
   "display_name": "Python 3.10.4 64-bit",
   "language": "python",
   "name": "python3"
  },
  "language_info": {
   "name": "python",
   "version": "3.10.4"
  },
  "orig_nbformat": 4,
  "vscode": {
   "interpreter": {
    "hash": "916dbcbb3f70747c44a77c7bcd40155683ae19c65e1c03b4aa3499c5328201f1"
   }
  }
 },
 "nbformat": 4,
 "nbformat_minor": 2
}
