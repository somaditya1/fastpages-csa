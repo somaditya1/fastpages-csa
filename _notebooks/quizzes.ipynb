{
 "cells": [
  {
   "cell_type": "markdown",
   "metadata": {},
   "source": [
    "# Python Notebook\n",
    "> Python test code\n",
    "\n",
    "- badges: true\n",
    "- comments: true\n",
    "- categories: [jupyter, python]"
   ]
  },
  {
   "cell_type": "code",
   "execution_count": 1,
   "metadata": {},
   "outputs": [
    {
     "name": "stdout",
     "output_type": "stream",
     "text": [
      "Question: Who is the WR1 on the Buffulo Bills?\n",
      "Answer: Stefon Diggs\n",
      "Correct Answer\n",
      "Question: Who is the QB on the Bengals?\n",
      "Answer: Joes Burrow\n",
      "Incorrect Answer\n",
      "Question: What team does Sammy Watkins play for?\n",
      "Answer: Green Bay Packers\n",
      "Correct Answer\n",
      "Question: Who won the 2022 NFL Superbowl?\n",
      "Answer: LA Rams\n",
      "Correct Answer\n",
      "Question: Who is the G.O.A.T?\n",
      "Answer: Tom Brady\n",
      "Correct Answer\n",
      "4 Answers correct\n"
     ]
    }
   ],
   "source": [
    "import getpass, sys\n",
    "\n",
    "questions = 5\n",
    "correct = 0\n",
    "\n",
    "def question_and_answer(prompt, answer):\n",
    "    print(\"Question: \" + prompt)\n",
    "    msg = input()\n",
    "    print(\"Answer: \" + msg)\n",
    "\n",
    "    if answer == msg:\n",
    "        print(\"Correct Answer\")\n",
    "        global correct\n",
    "        correct+=1\n",
    "    else:\n",
    "        print (\"Incorrect Answer\")\n",
    " \n",
    "question_and_answer(\"Who is the WR1 on the Buffulo Bills?\", \"Stefon Diggs\")\n",
    "question_and_answer(\"Who is the QB on the Bengals?\", \"Joe Burrow\")\n",
    "question_and_answer(\"What team does Sammy Watkins play for?\", \"Green Bay Packers\")\n",
    "question_and_answer(\"Who won the 2022 NFL Superbowl?\", \"LA Rams\")\n",
    "question_and_answer(\"Who is the G.O.A.T?\", \"Tom Brady\")\n",
    "\n",
    "\n",
    "print(correct, \"Answers correct\")"
   ]
  }
 ],
 "metadata": {
  "kernelspec": {
   "display_name": "Python 3.10.4 64-bit",
   "language": "python",
   "name": "python3"
  },
  "language_info": {
   "codemirror_mode": {
    "name": "ipython",
    "version": 3
   },
   "file_extension": ".py",
   "mimetype": "text/x-python",
   "name": "python",
   "nbconvert_exporter": "python",
   "pygments_lexer": "ipython3",
   "version": "3.10.4"
  },
  "orig_nbformat": 4,
  "vscode": {
   "interpreter": {
    "hash": "916dbcbb3f70747c44a77c7bcd40155683ae19c65e1c03b4aa3499c5328201f1"
   }
  }
 },
 "nbformat": 4,
 "nbformat_minor": 2
}
