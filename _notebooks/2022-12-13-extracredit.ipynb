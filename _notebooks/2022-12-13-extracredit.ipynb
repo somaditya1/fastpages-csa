{
 "cells": [
  {
   "cell_type": "markdown",
   "metadata": {},
   "source": [
    "# Technical Business Panel Reflection\n",
    "- badges: true\n",
    "- comments: true\n",
    "- categories: [jupyter, java]"
   ]
  },
  {
   "cell_type": "markdown",
   "metadata": {},
   "source": [
    "The CS experince from people who are and have been in the field\n",
    "Kathylean Beverridge \n",
    "- Born in Vietnam and earned her undergrad At Santa Clara University\n",
    "- Studied abroad at Spain considers it to be a life-changing experience\n",
    "- Worked as a Investment Banker(Finanace Major) but eventually transitioned to high tech\n",
    "- Worked at HPE, Qualcomnn and now Fisher Scientific\n",
    "- Common factor among all was in there mission statement, creating tech that benefits people and the world\n",
    "\n",
    "What I learned about communiaction from Kathylean Beverridge \n",
    "\n",
    "Communication is essential in computer science for a number of reasons. First, effective communication allows for the sharing of ideas and information, which is crucial for collaboration and teamwork. This is especially important in the field of computer science, where solving complex problems often requires the expertise and knowledge of multiple individuals.Second, clear communication can help to ensure that project goals and requirements are well-defined and understood by all team members. This can help to prevent misunderstandings and conflicts, and can also help to ensure that the final product meets the needs of the user or client.Third, effective communication can help to promote understanding and collaboration between different teams or departments within an organization. For example, the development team may need to work closely with the marketing team to ensure that a product is successfully promoted to potential customers. Finally, good communication skills are essential for anyone working in computer science, as they can help to build strong working relationships and can also be valuable in a professional setting. For example, being able to clearly articulate technical concepts to a non-technical audience can be a valuable skill in many job roles.\n",
    "\n",
    "Kris Porter\n",
    "- Software Engineer who doesn't neccecarliy write code the whole day \n",
    "- Develops SRE\n",
    "- Completed his Bachelors and Masters at UCLA for Electrical Engineering\n",
    "- Stopped coding for 9 years then made it his carreer\n",
    "- Learned about the Linux OS throgh the Radar Project \n",
    "- Had a very unique work experience before entering real big teach \n",
    "- Began big tech in a data center and start up\n",
    "- Worked in deploying a website using cyber security and is now working at Twitter\n",
    "- DevOPs jobs and set up servers, doing analyitics\n",
    "\n",
    "What I learned about teh crednetials needed for CS from Kris Porter \n",
    "\n",
    "Many different fields can lead into a career in computer science. Computer science is a broad field that encompasses a wide range of sub-disciplines, including programming, data analysis, artificial intelligence, and cybersecurity. As a result, individuals from a variety of backgrounds and with a range of different skills and interests can find a place in the field of computer science. For example, individuals with a background in mathematics may be interested in exploring the field of data science, which involves using mathematical and statistical techniques to extract insights from large data sets. Those with a strong background in physics or engineering may be interested in exploring the field of robotics, which involves designing and building intelligent machines. Additionally, individuals with a background in the humanities, such as English or psychology, may be interested in exploring the field of human-computer interaction, which involves designing technology that is easy and intuitive to use for people. Overall, the field of computer science is incredibly diverse, and individuals from many different fields can find a place within it.\n",
    "\n",
    "\n",
    "\n",
    "\n",
    "\n",
    "\n",
    "\n",
    "\n",
    "\n"
   ]
  }
 ],
 "metadata": {
  "language_info": {
   "name": "python"
  },
  "orig_nbformat": 4
 },
 "nbformat": 4,
 "nbformat_minor": 2
}
